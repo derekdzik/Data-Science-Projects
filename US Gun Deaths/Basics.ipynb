{
 "cells": [
  {
   "cell_type": "markdown",
   "metadata": {
    "collapsed": true
   },
   "source": [
    "# Modules \n"
   ]
  },
  {
   "cell_type": "code",
   "execution_count": 1,
   "metadata": {
    "collapsed": false
   },
   "outputs": [],
   "source": [
    "import csv\n",
    "import datetime\n",
    "\n",
    "# gun death data \n",
    "data = list(csv.reader(open(\"guns.csv\", \"r\")))\n",
    "headers = data[0]\n",
    "data = data[1:]\n",
    "\n",
    "# population census data \n",
    "\n",
    "census = list(csv.reader(open(\"census.csv\", \"r\")))\n",
    "census_headers = census[0] \n",
    "census = census[1:][0]\n",
    "\n"
   ]
  },
  {
   "cell_type": "markdown",
   "metadata": {},
   "source": [
    "# functions "
   ]
  },
  {
   "cell_type": "code",
   "execution_count": 7,
   "metadata": {
    "collapsed": false
   },
   "outputs": [],
   "source": [
    "def header_index(header, headers = headers):\n",
    "    header_values = {}\n",
    "    for index, value in enumerate(headers):\n",
    "        header_values[value] = index\n",
    "        \n",
    "    header_index = header_values[header]\n",
    "    return header_index\n",
    "\n",
    "def get_column_counts(column, list = False):\n",
    "    col = [col[header_index(column)] for col in data]\n",
    "    if list == True: \n",
    "        return col\n",
    "    col_count = {}\n",
    "    for value in col:\n",
    "        if value in col_count:\n",
    "            col_count[value] += 1\n",
    "        else:\n",
    "            col_count[value] = 1\n",
    "    return col_count"
   ]
  },
  {
   "cell_type": "markdown",
   "metadata": {},
   "source": [
    "# analyse "
   ]
  },
  {
   "cell_type": "code",
   "execution_count": 3,
   "metadata": {
    "collapsed": false
   },
   "outputs": [
    {
     "data": {
      "text/plain": [
       "{'2012': 33563, '2013': 33636, '2014': 33599}"
      ]
     },
     "execution_count": 3,
     "metadata": {},
     "output_type": "execute_result"
    }
   ],
   "source": [
    "# calculate gun deaths by year \n",
    "\n",
    "year_counts = get_column_counts('year')\n",
    "year_counts\n"
   ]
  },
  {
   "cell_type": "code",
   "execution_count": 17,
   "metadata": {
    "collapsed": false
   },
   "outputs": [
    {
     "data": {
      "text/plain": [
       "{'2012-01': 2758,\n",
       " '2012-02': 2357,\n",
       " '2012-03': 2743,\n",
       " '2012-04': 2795,\n",
       " '2012-05': 2999,\n",
       " '2012-06': 2826,\n",
       " '2012-07': 3026,\n",
       " '2012-08': 2954,\n",
       " '2012-09': 2852,\n",
       " '2012-10': 2733,\n",
       " '2012-11': 2729,\n",
       " '2012-12': 2791,\n",
       " '2013-01': 2864,\n",
       " '2013-02': 2375,\n",
       " '2013-03': 2862,\n",
       " '2013-04': 2798,\n",
       " '2013-05': 2806,\n",
       " '2013-06': 2920,\n",
       " '2013-07': 3079,\n",
       " '2013-08': 2859,\n",
       " '2013-09': 2742,\n",
       " '2013-10': 2808,\n",
       " '2013-11': 2758,\n",
       " '2013-12': 2765,\n",
       " '2014-01': 2651,\n",
       " '2014-02': 2361,\n",
       " '2014-03': 2684,\n",
       " '2014-04': 2862,\n",
       " '2014-05': 2864,\n",
       " '2014-06': 2931,\n",
       " '2014-07': 2884,\n",
       " '2014-08': 2970,\n",
       " '2014-09': 2914,\n",
       " '2014-10': 2865,\n",
       " '2014-11': 2756,\n",
       " '2014-12': 2857}"
      ]
     },
     "execution_count": 17,
     "metadata": {},
     "output_type": "execute_result"
    }
   ],
   "source": [
    "#calcluate gun deaths by year and month\n",
    "\n",
    "dates = [datetime.datetime(year = int(row[header_index('year')]), month = int(row[header_index('month')]), day = 1).strftime(\"%Y-%m\") for row in data]\n",
    "date_counts = {}\n",
    "for date in dates: \n",
    "    if date in date_counts:\n",
    "        date_counts[date] += 1\n",
    "    else:\n",
    "        date_counts[date] = 1\n",
    "        \n",
    "date_counts\n"
   ]
  },
  {
   "cell_type": "code",
   "execution_count": 5,
   "metadata": {
    "collapsed": false
   },
   "outputs": [
    {
     "data": {
      "text/plain": [
       "{'Asian/Pacific Islander': 8.746980714890115e-06,\n",
       " 'Black': 57.8773477735196,\n",
       " 'Hispanic': 20.220491210910907,\n",
       " 'Native American/Native Alaskan': 24.521955573811088,\n",
       " 'White': 33.56849303419181}"
      ]
     },
     "execution_count": 5,
     "metadata": {},
     "output_type": "execute_result"
    }
   ],
   "source": [
    "# look at sex and race columns\n",
    "\n",
    "sex_counts = get_column_counts(\"sex\")\n",
    "race_counts = get_column_counts(\"race\")\n",
    "mapping = {}\n",
    "race_per_hundredk = {}\n",
    "for key, value in race_counts.items():\n",
    "    if key == 'Asian/Pacific Islander':\n",
    "        mapping[key] = int(census[header_index('Race Alone - Asian', headers = census_headers)] +\n",
    "                       census[header_index('Race Alone - Native Hawaiian and Other Pacific Islander', headers = census_headers)])\n",
    "        race_per_hundredk[key] = 100000*(value/ mapping[key])\n",
    "    elif key == 'Black':\n",
    "        mapping[key] = int(census[header_index('Race Alone - Black or African American', headers = census_headers)])\n",
    "        race_per_hundredk[key] = 100000*(value/ mapping[key])\n",
    "    elif key == 'Hispanic':\n",
    "        mapping[key] = int(census[header_index('Race Alone - Hispanic', headers = census_headers)])\n",
    "        race_per_hundredk[key] = 100000*(value/ mapping[key])\n",
    "    elif key == 'Native American/Native Alaskan':\n",
    "        mapping[key] = int(census[header_index('Race Alone - American Indian and Alaska Native', headers = census_headers)])\n",
    "        race_per_hundredk[key] = 100000*(value/ mapping[key])\n",
    "    elif key == 'White': \n",
    "        mapping[key] = int(census[header_index('Race Alone - White', headers = census_headers)])\n",
    "        race_per_hundredk[key] = 100000*(value/ mapping[key])\n",
    "    \n",
    "\n",
    "\n",
    "    \n",
    "    \n",
    "race_per_hundredk\n",
    "    \n",
    "\n",
    "\n",
    "\n",
    "    \n",
    "\n",
    "\n",
    "\n"
   ]
  },
  {
   "cell_type": "code",
   "execution_count": 16,
   "metadata": {
    "collapsed": false
   },
   "outputs": [
    {
     "data": {
      "text/plain": [
       "{'Asian/Pacific Islander': 3.687452654316421e-06,\n",
       " 'Black': 48.471284987180944,\n",
       " 'Hispanic': 12.627161104219914,\n",
       " 'Native American/Native Alaskan': 8.717729026240365,\n",
       " 'White': 4.6356417981453335}"
      ]
     },
     "execution_count": 16,
     "metadata": {},
     "output_type": "execute_result"
    }
   ],
   "source": [
    "# looking at homocides \n",
    "\n",
    "intents = get_column_counts('intent', list = True)\n",
    "races = get_column_counts('race', list = True)\n",
    "\n",
    "homicide_per_race_hundredk = {}\n",
    "\n",
    "for i, race in enumerate(races):\n",
    "    if intents[i] == 'Homicide':\n",
    "        if race in homicide_per_race_hundredk:\n",
    "            homicide_per_race_hundredk[race] += 1\n",
    "        else:\n",
    "            homicide_per_race_hundredk[race] = 1\n",
    "\n",
    "for key, value in homicide_per_race_hundredk.items():\n",
    "    homicide_per_race_hundredk[key] = 100000*(value/ int(mapping[key]))\n",
    "    \n",
    "homicide_per_race_hundredk\n",
    "            \n",
    "        "
   ]
  },
  {
   "cell_type": "code",
   "execution_count": null,
   "metadata": {
    "collapsed": true
   },
   "outputs": [],
   "source": []
  }
 ],
 "metadata": {
  "kernelspec": {
   "display_name": "Python 3",
   "language": "python",
   "name": "python3"
  },
  "language_info": {
   "codemirror_mode": {
    "name": "ipython",
    "version": 3
   },
   "file_extension": ".py",
   "mimetype": "text/x-python",
   "name": "python",
   "nbconvert_exporter": "python",
   "pygments_lexer": "ipython3",
   "version": "3.4.3"
  }
 },
 "nbformat": 4,
 "nbformat_minor": 0
}
