{
 "cells": [
  {
   "cell_type": "markdown",
   "metadata": {
    "collapsed": true
   },
   "source": [
    "# Modules and Data\n"
   ]
  },
  {
   "cell_type": "code",
   "execution_count": 48,
   "metadata": {
    "collapsed": false
   },
   "outputs": [],
   "source": [
    "import csv\n",
    "import datetime\n",
    "import pandas as pd\n",
    "\n",
    "# gun death data \n",
    "data = list(csv.reader(open(\"guns.csv\", \"r\")))\n",
    "headers = data[0]\n",
    "data = data[1:]\n",
    "\n",
    "# population census data \n",
    "\n",
    "census = list(csv.reader(open(\"census.csv\", \"r\")))\n",
    "census_headers = census[0] \n",
    "census = census[1:][0]\n",
    "\n"
   ]
  },
  {
   "cell_type": "markdown",
   "metadata": {},
   "source": [
    "# Functions for Simple Calculations Used Across this Project "
   ]
  },
  {
   "cell_type": "code",
   "execution_count": 8,
   "metadata": {
    "collapsed": true
   },
   "outputs": [],
   "source": [
    "def header_index(header, headers = headers):\n",
    "    header_values = {}\n",
    "    for index, value in enumerate(headers):\n",
    "        header_values[value] = index\n",
    "        \n",
    "    header_index = header_values[header]\n",
    "    return header_index\n",
    "\n",
    "def get_column_counts(column, list = False):\n",
    "    col = [col[header_index(column)] for col in data]\n",
    "    if list == True: \n",
    "        return col\n",
    "    col_count = {}\n",
    "    for value in col:\n",
    "        if value in col_count:\n",
    "            col_count[value] += 1\n",
    "        else:\n",
    "            col_count[value] = 1\n",
    "    return col_count"
   ]
  },
  {
   "cell_type": "markdown",
   "metadata": {},
   "source": [
    "# Calculations from Data "
   ]
  },
  {
   "cell_type": "code",
   "execution_count": 4,
   "metadata": {
    "collapsed": false
   },
   "outputs": [
    {
     "data": {
      "text/plain": [
       "{'2012': 33563, '2013': 33636, '2014': 33599}"
      ]
     },
     "execution_count": 4,
     "metadata": {},
     "output_type": "execute_result"
    }
   ],
   "source": [
    "# calculate gun deaths by year \n",
    "\n",
    "year_counts = get_column_counts('year')\n",
    "year_counts\n"
   ]
  },
  {
   "cell_type": "code",
   "execution_count": 139,
   "metadata": {
    "collapsed": false
   },
   "outputs": [],
   "source": [
    "# calcluate gun deaths by month\n",
    "\n",
    "dates = [datetime.datetime(year = int(row[header_index('year')]), month = int(row[header_index('month')]), day = 1).strftime(\"%Y-%m\") for row in data]\n",
    "date_counts = {}\n",
    "for date in dates: \n",
    "    if date in date_counts:\n",
    "        date_counts[date] += 1\n",
    "    else:\n",
    "        date_counts[date] = 1\n",
    "        \n",
    "\n"
   ]
  },
  {
   "cell_type": "code",
   "execution_count": 138,
   "metadata": {
    "collapsed": false
   },
   "outputs": [],
   "source": [
    "# look at sex and race columns\n",
    "# this code is pretty bad.. haha. Was looking for it to be easy to read but you know... \n",
    "\n",
    "sex_counts = get_column_counts(\"sex\")\n",
    "race_counts = get_column_counts(\"race\")\n",
    "mapping = {}\n",
    "race_per_hundredk = {}\n",
    "for key, value in race_counts.items():\n",
    "    if key == 'Asian/Pacific Islander':\n",
    "        mapping[key] = (int(census[header_index('Race Alone - Asian', headers = census_headers)]) +\n",
    "                       int(census[header_index('Race Alone - Native Hawaiian and Other Pacific Islander', headers = census_headers)]))\n",
    "        race_per_hundredk[key] = 100000*(value/ mapping[key])\n",
    "    elif key == 'Black':\n",
    "        mapping[key] = int(census[header_index('Race Alone - Black or African American', headers = census_headers)])\n",
    "        race_per_hundredk[key] = 100000*(value/ mapping[key])\n",
    "    elif key == 'Hispanic':\n",
    "        mapping[key] = int(census[header_index('Race Alone - Hispanic', headers = census_headers)])\n",
    "        race_per_hundredk[key] = 100000*(value/ mapping[key])\n",
    "    elif key == 'Native American/Native Alaskan':\n",
    "        mapping[key] = int(census[header_index('Race Alone - American Indian and Alaska Native', headers = census_headers)])\n",
    "        race_per_hundredk[key] = 100000*(value/ mapping[key])\n",
    "    elif key == 'White': \n",
    "        mapping[key] = int(census[header_index('Race Alone - White', headers = census_headers)])\n",
    "        race_per_hundredk[key] = 100000*(value/ mapping[key])\n",
    "    "
   ]
  },
  {
   "cell_type": "code",
   "execution_count": 137,
   "metadata": {
    "collapsed": false
   },
   "outputs": [],
   "source": [
    "# Looking at gun deaths across the entire dataset by intent, race, per 100k \n",
    "\n",
    "def intent_per_race(intent, hundredk = False): \n",
    "    intent_per_race = {}\n",
    "    intents = get_column_counts('intent', list = True)\n",
    "    races = get_column_counts('race', list = True)\n",
    "    for i, race in enumerate(races):\n",
    "        if intents[i] == intent:\n",
    "            if race in intent_per_race:\n",
    "                intent_per_race[race] += 1\n",
    "            else:\n",
    "                intent_per_race[race] = 1\n",
    "    if hundredk == True: \n",
    "        intent_per_race_hundredk = {}\n",
    "        for key, value in intent_per_race.items():\n",
    "            intent_per_race_hundredk[key] = 100000*(value/ int(mapping[key]))\n",
    "        return intent_per_race_hundredk\n",
    "    else:\n",
    "        return intent_per_race\n",
    "\n",
    "def intent_per(hundredk = False):             \n",
    "    unique_intent = list(set([get_column_counts('intent', list = True)][0]))\n",
    "\n",
    "    intent_per_hundredk = {}\n",
    "    for intent in unique_intent: \n",
    "        if intent not in intent_per_hundredk:\n",
    "            intent_per_hundredk[intent] = intent_per_race(intent, hundredk=hundredk)\n",
    "        \n",
    "    return intent_per_hundredk\n",
    "\n",
    "# calcluated dictionaries \n",
    "\n",
    "intent_by_death_total = intent_per(hundredk = False)\n",
    "intent_by_death_rate = intent_per(hundredk = True) \n",
    "\n",
    "\n",
    "    "
   ]
  },
  {
   "cell_type": "code",
   "execution_count": 136,
   "metadata": {
    "collapsed": false,
    "scrolled": false
   },
   "outputs": [],
   "source": [
    "#intent by month totals and per 100k\n",
    "\n",
    "def intent_per_month(intent, hundredk = False):\n",
    "    intents = get_column_counts('intent', list = True)\n",
    "    races = get_column_counts('race', list = True)\n",
    "    intent_per_month = {} \n",
    "    for date in list(set(dates)):\n",
    "        if date not in intent_per_month:\n",
    "            month_by_race = {}\n",
    "            for j, race in enumerate(races):\n",
    "                if intents[j] == intent:\n",
    "                    if dates[j] == date:\n",
    "                        if race in month_by_race:\n",
    "                            month_by_race[race] += 1\n",
    "                        else:\n",
    "                            month_by_race[race] = 1\n",
    "            \n",
    "            if hundredk == True:\n",
    "                for key, value in month_by_race.items(): \n",
    "                    month_by_race[key] = 100000*(value/int(mapping[key]))\n",
    "            intent_per_month[date] = month_by_race\n",
    "            \n",
    "    return intent_per_month\n",
    "\n",
    "def month_total_or_rate(hundredk = False):\n",
    "    unique_intent = list(set([get_column_counts('intent', list = True)][0]))\n",
    "    gun_death_per_month = {}\n",
    "    for intent in unique_intent:\n",
    "        if intent not in gun_death_per_month: \n",
    "            gun_death_per_month[intent] = intent_per_month(intent, hundredk=hundredk)\n",
    "    return gun_death_per_month\n",
    "\n",
    "#dictionary calculations \n",
    "\n",
    "intent_total_by_month = month_total_or_rate()\n",
    "intent_total_by_100k = month_total_or_rate(hundredk = True)\n",
    "\n"
   ]
  },
  {
   "cell_type": "code",
   "execution_count": null,
   "metadata": {
    "collapsed": true
   },
   "outputs": [],
   "source": []
  }
 ],
 "metadata": {
  "anaconda-cloud": {},
  "kernelspec": {
   "display_name": "Python [default]",
   "language": "python",
   "name": "python3"
  },
  "language_info": {
   "codemirror_mode": {
    "name": "ipython",
    "version": 3
   },
   "file_extension": ".py",
   "mimetype": "text/x-python",
   "name": "python",
   "nbconvert_exporter": "python",
   "pygments_lexer": "ipython3",
   "version": "3.5.2"
  }
 },
 "nbformat": 4,
 "nbformat_minor": 0
}
